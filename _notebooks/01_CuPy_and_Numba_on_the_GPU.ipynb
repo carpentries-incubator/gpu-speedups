{
  "nbformat": 4,
  "nbformat_minor": 0,
  "metadata": {
    "kernelspec": {
      "name": "python3",
      "display_name": "Python 3"
    },
    "language_info": {
      "codemirror_mode": {
        "name": "ipython",
        "version": 3
      },
      "file_extension": ".py",
      "mimetype": "text/x-python",
      "name": "python",
      "nbconvert_exporter": "python",
      "pygments_lexer": "ipython3",
      "version": "3.7.1"
    },
    "colab": {
      "name": "1 - CuPy and Numba on the GPU.ipynb",
      "provenance": [],
      "collapsed_sections": []
    },
    "accelerator": "GPU"
  },
  "cells": [
    {
      "cell_type": "markdown",
      "metadata": {
        "id": "eAO8QTO38cpa",
        "colab_type": "text"
      },
      "source": [
        "---\n",
        "title: \"CuPy and Numba on the GPU\"\n",
        "teaching: 0\n",
        "exercises: 0\n",
        "questions:\n",
        "- \"What is CuPy?\"\n",
        "- \"What is Numba?\"\n",
        "objectives:\n",
        "- \"Understand copying to and from the GPU (host/device interaction)\"\n",
        "- \"Understand the similarities and differences between numpy and cupy arrays\"\n",
        "- \"Understand how speedups are benchmarked\"\n",
        "- \"Understand what makes for fast GPU spedup functions\"\n",
        "- \"Explore some available `cupy` functions that are like those in `numpy` but are GPU spedup\"\n",
        "- \"Get experience with GPU spedup `ufuncs`\"\n",
        "- \"Get experience with CUDA device functions, which are only called on the GPU (`numba.cuda.jit`)\"\n",
        "keypoints:\n",
        "- \"CuPy is NumPy, but for the GPU\"\n",
        "- \"Data is copied from the CPU (host) to the GPU (device), where it is computed on. After a computation, it need to be copied back to the CPU to be interacted with by `numpy`, etc\"\n",
        "- \"`%timeit` can be used to benchmark the runtime of GPU spedup functions\"\n",
        "- \"GPU spedup functions are optimized for at least four things: 1. input size 2. compute complexity 3. CPU/GPU copying 4. data type. Concretely, a gpu spedup function can be slow because the input size is too small, the computation is too simple, there is excessive data copying to/from GPU/CPU, and the input types are excessivly large (e.g. np.float64 vs np.float32)\"\n",
        "- \"Make GPU spedup ufuncs with `@numba.vectorize(..., target='cuda')`\"\n",
        "- \"Make CUDA device functions with `@numba.cuda.jit(device=True)` \"\n",
        "---"
      ]
    },
    {
      "cell_type": "markdown",
      "metadata": {
        "id": "fCH1cDg-fo-Y",
        "colab_type": "text"
      },
      "source": [
        "# 01 :: CuPy and Numba on the GPU\n",
        "\n",
        "\n",
        "\n",
        "NumPy can be used for array math on the CPU.  Array operations are very amenable to execution on a massively parallel GPU.  We will not go into the CUDA programming model too much in this tutorial, but the most important thing to remember is that the GPU hardware is designed for *data parallelism*.  Maximum throughput is achieved when you are computing the same operations on many different elements at once.  "
      ]
    },
    {
      "cell_type": "markdown",
      "metadata": {
        "id": "qLRrvqmHfo-d",
        "colab_type": "text"
      },
      "source": [
        "## What is CuPy?\n",
        "\n",
        "Simply put: [CuPy](https://cupy.chainer.org/) is NumPy, but for the GPU.  [Preferred Networks](https://www.preferred-networks.jp/en/) created CuPy as the GPU backend for their deep learning library, [Chainer](https://chainer.org/), but it also works great as a standalone NumPy-like GPU array library.  If you know NumPy, CuPy is a very easy way to get started on the GPU.\n",
        "\n",
        "Just like NumPy, CuPy offers 3 basic things:\n",
        "\n",
        "1. A multidimensional array object, but stored in GPU memory.\n",
        "2. A ufunc system that follows broadcast rules, but executes in parallel on the GPU.\n",
        "3. A large library of array functions already implemented with CUDA."
      ]
    },
    {
      "cell_type": "code",
      "metadata": {
        "id": "7aWrlgvJfo-e",
        "colab_type": "code",
        "colab": {}
      },
      "source": [
        "import numpy as np\n",
        "import cupy as cp"
      ],
      "execution_count": 0,
      "outputs": []
    },
    {
      "cell_type": "markdown",
      "metadata": {
        "id": "BfPB7h8hfo-j",
        "colab_type": "text"
      },
      "source": [
        "CuPy arrays look just like NumPy arrays:"
      ]
    },
    {
      "cell_type": "code",
      "metadata": {
        "id": "FjBAKwbjfo-k",
        "colab_type": "code",
        "outputId": "2a24cd09-5ee7-4381-f221-60cd6daf8ddd",
        "colab": {
          "base_uri": "https://localhost:8080/",
          "height": 102
        }
      },
      "source": [
        "ary = cp.arange(10).reshape((2,5))\n",
        "print(repr(ary))\n",
        "print(ary.dtype)\n",
        "print(ary.shape)\n",
        "print(ary.strides)"
      ],
      "execution_count": 0,
      "outputs": [
        {
          "output_type": "stream",
          "text": [
            "array([[0, 1, 2, 3, 4],\n",
            "       [5, 6, 7, 8, 9]])\n",
            "int64\n",
            "(2, 5)\n",
            "(40, 8)\n"
          ],
          "name": "stdout"
        }
      ]
    },
    {
      "cell_type": "markdown",
      "metadata": {
        "id": "huag3ZUKfo-o",
        "colab_type": "text"
      },
      "source": [
        "This array is in the GPU memory of the default GPU (device 0).  We can see this by inspecting the special `device` attribute:"
      ]
    },
    {
      "cell_type": "code",
      "metadata": {
        "id": "PKm6PanEfo-p",
        "colab_type": "code",
        "outputId": "163cde4e-528c-4366-8ea9-46208d4bbbe0",
        "colab": {
          "base_uri": "https://localhost:8080/",
          "height": 34
        }
      },
      "source": [
        "ary.device"
      ],
      "execution_count": 0,
      "outputs": [
        {
          "output_type": "execute_result",
          "data": {
            "text/plain": [
              "<CUDA Device 0>"
            ]
          },
          "metadata": {
            "tags": []
          },
          "execution_count": 3
        }
      ]
    },
    {
      "cell_type": "markdown",
      "metadata": {
        "id": "s3-8FPdXfo-u",
        "colab_type": "text"
      },
      "source": [
        "We can move data from the CPU to the GPU using the `cp.asarray()` function:"
      ]
    },
    {
      "cell_type": "code",
      "metadata": {
        "id": "fgC6JF0nfo-v",
        "colab_type": "code",
        "outputId": "11c873ee-04ce-48d5-b87c-582a67656aa4",
        "colab": {
          "base_uri": "https://localhost:8080/",
          "height": 68
        }
      },
      "source": [
        "ary_cpu = np.arange(10)\n",
        "ary_gpu = cp.asarray(ary_cpu)\n",
        "print('cpu:', ary_cpu)\n",
        "print('gpu:', ary_gpu)\n",
        "print(ary_gpu.device)"
      ],
      "execution_count": 0,
      "outputs": [
        {
          "output_type": "stream",
          "text": [
            "cpu: [0 1 2 3 4 5 6 7 8 9]\n",
            "gpu: [0 1 2 3 4 5 6 7 8 9]\n",
            "<CUDA Device 0>\n"
          ],
          "name": "stdout"
        }
      ]
    },
    {
      "cell_type": "markdown",
      "metadata": {
        "id": "Gc5jvOGWfo-2",
        "colab_type": "text"
      },
      "source": [
        "Note that when we print the contents of a GPU array, CuPy is copying the data from the GPU back to the CPU so it can print the results.\n",
        "\n",
        "If we are done with the data on the GPU, we can convert it back to a NumPy array on the CPU with the `cp.asnumpy()` function:"
      ]
    },
    {
      "cell_type": "code",
      "metadata": {
        "id": "jtU08C1Tfo-4",
        "colab_type": "code",
        "outputId": "b17d5806-d764-41b2-d54c-31e964fbd9c8",
        "colab": {
          "base_uri": "https://localhost:8080/",
          "height": 51
        }
      },
      "source": [
        "ary_cpu_returned = cp.asnumpy(ary_gpu)\n",
        "print(repr(ary_cpu_returned))\n",
        "print(type(ary_cpu_returned))"
      ],
      "execution_count": 0,
      "outputs": [
        {
          "output_type": "stream",
          "text": [
            "array([0, 1, 2, 3, 4, 5, 6, 7, 8, 9])\n",
            "<class 'numpy.ndarray'>\n"
          ],
          "name": "stdout"
        }
      ]
    },
    {
      "cell_type": "markdown",
      "metadata": {
        "id": "ob3mUV8Bfo-9",
        "colab_type": "text"
      },
      "source": [
        "### GPU Array Math\n",
        "\n",
        "Most of the NumPy methods are supported in CuPy with identical function names and arguments:"
      ]
    },
    {
      "cell_type": "code",
      "metadata": {
        "id": "Q81zL0vvfo--",
        "colab_type": "code",
        "outputId": "b8a234fb-ad83-4bcb-c8da-edcc95fe8855",
        "colab": {
          "base_uri": "https://localhost:8080/",
          "height": 136
        }
      },
      "source": [
        "print(ary_gpu * 2)\n",
        "print(cp.exp(-0.5 * ary_gpu**2))\n",
        "print(cp.linalg.norm(ary_gpu))\n",
        "print(cp.random.normal(loc=5, scale=2.0, size=10))"
      ],
      "execution_count": 0,
      "outputs": [
        {
          "output_type": "stream",
          "text": [
            "[ 0  2  4  6  8 10 12 14 16 18]\n",
            "[1.00000000e+00 6.06530660e-01 1.35335283e-01 1.11089965e-02\n",
            " 3.35462628e-04 3.72665317e-06 1.52299797e-08 2.28973485e-11\n",
            " 1.26641655e-14 2.57675711e-18]\n",
            "16.881943016134134\n",
            "[4.95031071 3.70847774 9.60738376 3.07962667 3.41041061 0.0329372\n",
            " 5.08960913 5.8728781  4.19626586 1.49915832]\n"
          ],
          "name": "stdout"
        }
      ]
    },
    {
      "cell_type": "markdown",
      "metadata": {
        "id": "GfjKvgHAfo_B",
        "colab_type": "text"
      },
      "source": [
        "You may notice a slight pause when you run these functions the first time.  This is because CuPy has to compile the CUDA functions on the fly, and then cache them to disk for reuse in the future.\n",
        "\n",
        "That's pretty much it!  CuPy is very easy to use and has excellent [documentation](https://docs-cupy.chainer.org/en/stable/overview.html), which you should become familiar with.\n",
        "\n",
        "Before we get into GPU performance measurement, let's switch gears to Numba."
      ]
    },
    {
      "cell_type": "markdown",
      "metadata": {
        "id": "fx4G0txpfo_C",
        "colab_type": "text"
      },
      "source": [
        "## When would I want Numba on the GPU?\n",
        "\n",
        "Similar to NumPy, Numba can be useful to use with CuPy when you want to:\n",
        "\n",
        "* Combine several operations together for greater efficiency.\n",
        "* Implement custom algorithms that are not easily described by combining CuPy functions.\n",
        "\n",
        "Numba's compiler pipeline for transforming Python functions to machine code can be used to generate CUDA functions which can be used standalone or with CuPy.  There are two basic approaches supported by Numba:\n",
        "\n",
        " 1. ufuncs/gufuncs (subject of the rest of this notebook)\n",
        " 2. CUDA Python kernels (subject of next notebook)"
      ]
    },
    {
      "cell_type": "markdown",
      "metadata": {
        "id": "AT9i59yQfo_C",
        "colab_type": "text"
      },
      "source": [
        "## Making new ufuncs for the GPU\n",
        "\n",
        "Numba has a decorator called `vectorize`. With it, you can write a kernel in python, and then have it execute on the GPU. You also tell it the dtypes of the returned value and input values. `['int64(int64, int64)']` means `return_int64(first_input_arg_is_int64, second_input_arg_is_int64)`.\n",
        "\n",
        "Numba has the ability to create compiled ufuncs.  You implement a scalar function of all the inputs, and Numba will figure out the broadcast rules for you.  Generating a ufunc that uses CUDA requires giving an explicit type signature and setting the `target` attribute:"
      ]
    },
    {
      "cell_type": "code",
      "metadata": {
        "id": "6V5v0zPrfo_D",
        "colab_type": "code",
        "colab": {}
      },
      "source": [
        "from numba import vectorize\n",
        "\n",
        "@vectorize(['int64(int64, int64)'], target='cuda')\n",
        "def add_ufunc(x, y):\n",
        "    return x + y"
      ],
      "execution_count": 0,
      "outputs": []
    },
    {
      "cell_type": "code",
      "metadata": {
        "id": "865wsiWCfo_H",
        "colab_type": "code",
        "outputId": "c6cbb8eb-f413-42f2-bfec-0a72d6e7bbf0",
        "colab": {
          "base_uri": "https://localhost:8080/",
          "height": 153
        }
      },
      "source": [
        "a = np.array([1, 2, 3, 4])\n",
        "b = np.array([10, 20, 30, 40])\n",
        "b_col = b[:, np.newaxis] # b as column array\n",
        "c = np.arange(4*4).reshape((4,4))\n",
        "\n",
        "print('a+b:\\n', add_ufunc(a, b))\n",
        "print()\n",
        "print('b_col + c:\\n', add_ufunc(b_col, c))"
      ],
      "execution_count": 0,
      "outputs": [
        {
          "output_type": "stream",
          "text": [
            "a+b:\n",
            " [11 22 33 44]\n",
            "\n",
            "b_col + c:\n",
            " [[10 11 12 13]\n",
            " [24 25 26 27]\n",
            " [38 39 40 41]\n",
            " [52 53 54 55]]\n"
          ],
          "name": "stdout"
        }
      ]
    },
    {
      "cell_type": "markdown",
      "metadata": {
        "id": "J4okbj3bfo_K",
        "colab_type": "text"
      },
      "source": [
        "A lot of things just happened!  Numba automatically:\n",
        "\n",
        " * Compiled a CUDA kernel to execute the ufunc operation in parallel over all the input elements.\n",
        " * Allocated GPU memory for the inputs and the output.\n",
        " * Copied the input data to the GPU.\n",
        " * Executed the CUDA kernel with the correct kernel dimensions given the input sizes.\n",
        " * Copied the result back from the GPU to the CPU.\n",
        " * Returned the result as a NumPy array on the host.\n",
        "\n",
        "This is very convenient for testing, but copying data back and forth between the CPU and GPU can be slow and hurt performance.  In the next tutorial notebook, you'll learn about device management, memory allocation, and using CuPy arrays with Numba.\n",
        "\n",
        "You might be wondering how fast our simple example is on the GPU?  Let's see:"
      ]
    },
    {
      "cell_type": "code",
      "metadata": {
        "id": "9kzodj90fo_L",
        "colab_type": "code",
        "outputId": "49756262-a824-4c9c-a73b-cd8503547f90",
        "colab": {
          "base_uri": "https://localhost:8080/",
          "height": 51
        }
      },
      "source": [
        "%timeit np.add(b_col, c)   # NumPy on CPU"
      ],
      "execution_count": 0,
      "outputs": [
        {
          "output_type": "stream",
          "text": [
            "The slowest run took 38.89 times longer than the fastest. This could mean that an intermediate result is being cached.\n",
            "1000000 loops, best of 3: 1.14 µs per loop\n"
          ],
          "name": "stdout"
        }
      ]
    },
    {
      "cell_type": "code",
      "metadata": {
        "id": "W57N9seZfo_Q",
        "colab_type": "code",
        "outputId": "88f47c12-29c4-4992-e26c-d1debc1be3a6",
        "colab": {
          "base_uri": "https://localhost:8080/",
          "height": 34
        }
      },
      "source": [
        "%timeit add_ufunc(b_col, c) # Numba on GPU"
      ],
      "execution_count": 0,
      "outputs": [
        {
          "output_type": "stream",
          "text": [
            "1000 loops, best of 3: 1.13 ms per loop\n"
          ],
          "name": "stdout"
        }
      ]
    },
    {
      "cell_type": "markdown",
      "metadata": {
        "id": "PIBNpVu7fo_U",
        "colab_type": "text"
      },
      "source": [
        "Wow, the GPU is *a lot slower* than the CPU.  What happened??\n",
        "\n",
        "This is to be expected because we have (deliberately) misused the GPU in several ways in this example:\n",
        "\n",
        "  * **Our inputs are too small**: the GPU achieves performance through parallelism, operating on thousands of values at once.  Our test inputs have only 4 and 16 integers, respectively.  We need a much larger array to even keep the GPU busy.\n",
        "  * **Our calculation is too simple**: Sending a calculation to the GPU involves quite a bit of overhead compared to calling a function on the CPU.  If our calculation does not involve enough math operations (often called \"arithmetic intensity\"), then the GPU will spend most of its time waiting for data to move around.\n",
        "  * **We copy the data to and from the GPU**: While including the copy time can be realistic for a single function, often we want to run several GPU operations in sequence.  In those cases, it makes sense to send data to the GPU and keep it there until all of our processing is complete.\n",
        "  * **Our data types are larger than necessary**: Our example uses `int64` when we probably don't need it.  Scalar code using data types that are 32 and 64-bit run basically the same speed on the CPU, but 64-bit data types have a significant performance cost on the GPU.  Basic arithmetic on 64-bit floats can be anywhere from 2x (Pascal-architecture Tesla) to 24x (Maxwell-architecture GeForce) slower than 32-bit floats.  NumPy defaults to 64-bit data types when creating arrays, so it is important to set the `dtype` attribute or use the `ndarray.astype()` method to pick 32-bit types when you need them.\n",
        "  \n",
        "  \n",
        "Given the above, let's try an example that is faster on the GPU:"
      ]
    },
    {
      "cell_type": "code",
      "metadata": {
        "id": "P0AZiGeFfo_V",
        "colab_type": "code",
        "colab": {}
      },
      "source": [
        "import math  # Note that for the CUDA target, we need to use the scalar functions from the math module, not NumPy\n",
        "\n",
        "SQRT_2PI = np.float32((2*math.pi)**0.5)  # Precompute this constant as a float32.  Numba will inline it at compile time.\n",
        "\n",
        "@vectorize(['float32(float32, float32, float32)'], target='cuda')\n",
        "def gaussian_pdf(x, mean, sigma):\n",
        "    '''Compute the value of a Gaussian probability density function at x with given mean and sigma.'''\n",
        "    return math.exp(-0.5 * ((x - mean) / sigma)**2) / (sigma * SQRT_2PI)"
      ],
      "execution_count": 0,
      "outputs": []
    },
    {
      "cell_type": "code",
      "metadata": {
        "id": "T24fG_E_fo_a",
        "colab_type": "code",
        "outputId": "024919f0-8907-4067-8de6-73b2cb59ea11",
        "colab": {
          "base_uri": "https://localhost:8080/",
          "height": 34
        }
      },
      "source": [
        "# Evaluate the Gaussian distribution PDF a million times!\n",
        "x = np.random.uniform(-3, 3, size=1000000).astype(np.float32)\n",
        "mean = np.float32(0.0)\n",
        "sigma = np.float32(1.0)\n",
        "\n",
        "# Quick test\n",
        "gaussian_pdf(x[0], 0.0, 1.0)"
      ],
      "execution_count": 0,
      "outputs": [
        {
          "output_type": "execute_result",
          "data": {
            "text/plain": [
              "array([0.0184202], dtype=float32)"
            ]
          },
          "metadata": {
            "tags": []
          },
          "execution_count": 13
        }
      ]
    },
    {
      "cell_type": "code",
      "metadata": {
        "id": "AOnHNw9Ofo_e",
        "colab_type": "code",
        "outputId": "7f0bac63-866c-4902-eff2-622c09c640c9",
        "colab": {
          "base_uri": "https://localhost:8080/",
          "height": 34
        }
      },
      "source": [
        "import scipy.stats # for definition of gaussian distribution\n",
        "norm_pdf = scipy.stats.norm\n",
        "%timeit norm_pdf.pdf(x, loc=mean, scale=sigma)"
      ],
      "execution_count": 0,
      "outputs": [
        {
          "output_type": "stream",
          "text": [
            "10 loops, best of 3: 57.1 ms per loop\n"
          ],
          "name": "stdout"
        }
      ]
    },
    {
      "cell_type": "code",
      "metadata": {
        "id": "D31fMGJefo_i",
        "colab_type": "code",
        "outputId": "a3ac8066-b3db-4daa-9b50-980c31964475",
        "colab": {
          "base_uri": "https://localhost:8080/",
          "height": 34
        }
      },
      "source": [
        "%timeit gaussian_pdf(x, mean, sigma)"
      ],
      "execution_count": 0,
      "outputs": [
        {
          "output_type": "stream",
          "text": [
            "100 loops, best of 3: 5.09 ms per loop\n"
          ],
          "name": "stdout"
        }
      ]
    },
    {
      "cell_type": "markdown",
      "metadata": {
        "id": "vsNWNhTUfo_n",
        "colab_type": "text"
      },
      "source": [
        "That's a pretty large improvement, even including the overhead of copying all the data to and from the GPU.  Ufuncs that use special functions (`exp`, `sin`, `cos`, etc) on large `float32` data sets run especially well on the GPU."
      ]
    },
    {
      "cell_type": "markdown",
      "metadata": {
        "id": "SLu8gk_Ofo_p",
        "colab_type": "text"
      },
      "source": [
        "## CUDA Device Functions\n",
        "\n",
        "Ufuncs are great, but you should not have to cram all of your logic into a single function body. You can also create normal functions that are only called from other functions running on the GPU.  (These are similar to CUDA C functions defined with `__device__`.)\n",
        "\n",
        "Device functions are created with the `numba.cuda.jit` decorator:"
      ]
    },
    {
      "cell_type": "code",
      "metadata": {
        "id": "6-l_X270fo_q",
        "colab_type": "code",
        "colab": {}
      },
      "source": [
        "from numba import cuda\n",
        "\n",
        "@cuda.jit(device=True)\n",
        "def polar_to_cartesian(rho, theta):\n",
        "    x = rho * math.cos(theta)\n",
        "    y = rho * math.sin(theta)\n",
        "    return x, y  # This is Python, so let's return a tuple\n",
        "\n",
        "@vectorize(['float32(float32, float32, float32, float32)'], target='cuda')\n",
        "def polar_distance(rho1, theta1, rho2, theta2):\n",
        "    x1, y1 = polar_to_cartesian(rho1, theta1)\n",
        "    x2, y2 = polar_to_cartesian(rho2, theta2)\n",
        "    \n",
        "    return ((x1 - x2)**2 + (y1 - y2)**2)**0.5"
      ],
      "execution_count": 0,
      "outputs": []
    },
    {
      "cell_type": "code",
      "metadata": {
        "id": "1T1Yw22Ofo_t",
        "colab_type": "code",
        "colab": {}
      },
      "source": [
        "n = 1000000\n",
        "rho1 = np.random.uniform(0.5, 1.5, size=n).astype(np.float32)\n",
        "theta1 = np.random.uniform(-np.pi, np.pi, size=n).astype(np.float32)\n",
        "rho2 = np.random.uniform(0.5, 1.5, size=n).astype(np.float32)\n",
        "theta2 = np.random.uniform(-np.pi, np.pi, size=n).astype(np.float32)"
      ],
      "execution_count": 0,
      "outputs": []
    },
    {
      "cell_type": "code",
      "metadata": {
        "id": "wV5CTB-wfo_x",
        "colab_type": "code",
        "outputId": "6ab561ef-3add-43ab-f096-4b5232b5b683",
        "colab": {
          "base_uri": "https://localhost:8080/",
          "height": 51
        }
      },
      "source": [
        "polar_distance(rho1, theta1, rho2, theta2)"
      ],
      "execution_count": 0,
      "outputs": [
        {
          "output_type": "execute_result",
          "data": {
            "text/plain": [
              "array([0.19478771, 1.692399  , 0.4759555 , ..., 0.61696213, 2.0872316 ,\n",
              "       0.18784152], dtype=float32)"
            ]
          },
          "metadata": {
            "tags": []
          },
          "execution_count": 18
        }
      ]
    },
    {
      "cell_type": "markdown",
      "metadata": {
        "id": "zXXEzcuifo_0",
        "colab_type": "text"
      },
      "source": [
        "Note that the CUDA compiler aggressively inlines device functions, so there is generally no overhead for function calls.  Similarly, the \"tuple\" returned by `polar_to_cartesian` is not actually created as a Python object, but represented temporarily as a struct, which is then optimized away by the compiler.\n",
        "\n",
        "We can compare this to doing the same thing on the CPU, still using Numba:"
      ]
    },
    {
      "cell_type": "code",
      "metadata": {
        "id": "6NJiMmQQfo_0",
        "colab_type": "code",
        "colab": {}
      },
      "source": [
        "import numba\n",
        "\n",
        "@numba.jit\n",
        "def polar_to_cartesian_cpu(rho, theta):\n",
        "    x = rho * math.cos(theta)\n",
        "    y = rho * math.sin(theta)\n",
        "    return x, y  # This is Python, so let's return a tuple\n",
        "\n",
        "@vectorize(['float32(float32, float32, float32, float32)'])  # default target is CPU\n",
        "def polar_distance_cpu(rho1, theta1, rho2, theta2):\n",
        "    x1, y1 = polar_to_cartesian_cpu(rho1, theta1)\n",
        "    x2, y2 = polar_to_cartesian_cpu(rho2, theta2)\n",
        "    \n",
        "    return ((x1 - x2)**2 + (y1 - y2)**2)**0.5\n",
        "\n",
        "np.testing.assert_allclose(polar_distance(rho1, theta1, rho2, theta2),\n",
        "                           polar_distance_cpu(rho1, theta1, rho2, theta2),\n",
        "                           rtol=1e-7, atol=5e-7)"
      ],
      "execution_count": 0,
      "outputs": []
    },
    {
      "cell_type": "code",
      "metadata": {
        "id": "Uj3Q7xPzfo_4",
        "colab_type": "code",
        "outputId": "cd78d18f-61bb-4427-fac1-673c83f90c62",
        "colab": {
          "base_uri": "https://localhost:8080/",
          "height": 51
        }
      },
      "source": [
        "%timeit polar_distance_cpu(rho1, theta1, rho2, theta2)\n",
        "%timeit polar_distance(rho1, theta1, rho2, theta2)"
      ],
      "execution_count": 0,
      "outputs": [
        {
          "output_type": "stream",
          "text": [
            "10 loops, best of 3: 26.8 ms per loop\n",
            "100 loops, best of 3: 9.72 ms per loop\n"
          ],
          "name": "stdout"
        }
      ]
    },
    {
      "cell_type": "markdown",
      "metadata": {
        "id": "mYmLybfgfo_7",
        "colab_type": "text"
      },
      "source": [
        "Not a bad speedup, and we're still doing quite a few GPU memory allocations and data copies."
      ]
    },
    {
      "cell_type": "markdown",
      "metadata": {
        "id": "64IhJq93fo_8",
        "colab_type": "text"
      },
      "source": [
        "## Allowed Python on the GPU\n",
        "\n",
        "Compared to Numba on the CPU (which is already limited), Numba on the GPU has more limitations.  Supported Python includes:\n",
        "\n",
        "* `if`/`elif`/`else`\n",
        "* `while` and `for` loops\n",
        "* Basic math operators\n",
        "* Selected functions from the `math` and `cmath` modules\n",
        "* Tuples\n",
        "\n",
        "See [the Numba manual](http://numba.pydata.org/numba-doc/latest/cuda/cudapysupported.html) for more details."
      ]
    }
  ]
}